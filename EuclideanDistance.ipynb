{
 "cells": [
  {
   "cell_type": "code",
   "execution_count": 1,
   "id": "83d9f03e-fac6-4e17-ba5e-2b4602f2147f",
   "metadata": {},
   "outputs": [],
   "source": [
    "import math"
   ]
  },
  {
   "cell_type": "code",
   "execution_count": 3,
   "id": "8b5368b1-8462-4ae3-bf47-367297fe2de2",
   "metadata": {},
   "outputs": [],
   "source": [
    "# points list\n",
    "points = [(2,3), (5,6), (1,8), (9,10), (7,8)]"
   ]
  },
  {
   "cell_type": "code",
   "execution_count": 18,
   "id": "6558c580-2d89-4b08-8fe6-d8a8ec698228",
   "metadata": {},
   "outputs": [],
   "source": [
    "# euclideanDistance function \n",
    "def euclideanDistance(point1, point2):\n",
    "    distance = math.sqrt((point2[0] - point1[0]) ** 2 + (point2[1] - point1[1]) ** 2)\n",
    "    return distance"
   ]
  },
  {
   "cell_type": "code",
   "execution_count": 5,
   "id": "26b77ad4-0408-4d7e-9ad6-431d7ed27b69",
   "metadata": {},
   "outputs": [],
   "source": [
    "# distances list\n",
    "distances = []"
   ]
  },
  {
   "cell_type": "code",
   "execution_count": 28,
   "id": "2b267989-d9d7-4ea0-9551-8f7ae98835e0",
   "metadata": {},
   "outputs": [],
   "source": [
    "# calculate distance between each tuple\n",
    "for i in range(len(points)):\n",
    "    for j in range(i + 1, len(points)):\n",
    "        dist = euclideanDistance(points[i], points[j])\n",
    "        distances.append(dist)"
   ]
  },
  {
   "cell_type": "code",
   "execution_count": 27,
   "id": "3710a554-fdaa-46e2-b341-381da89e0728",
   "metadata": {},
   "outputs": [
    {
     "name": "stdout",
     "output_type": "stream",
     "text": [
      "Minimum mesafe: 2.8284271247461903\n"
     ]
    }
   ],
   "source": [
    "# find min distance and print\n",
    "min_distance = min(distances)\n",
    "print(f\"Minimum mesafe: {min_distance}\")"
   ]
  }
 ],
 "metadata": {
  "kernelspec": {
   "display_name": "Python 3 (ipykernel)",
   "language": "python",
   "name": "python3"
  },
  "language_info": {
   "codemirror_mode": {
    "name": "ipython",
    "version": 3
   },
   "file_extension": ".py",
   "mimetype": "text/x-python",
   "name": "python",
   "nbconvert_exporter": "python",
   "pygments_lexer": "ipython3",
   "version": "3.12.4"
  }
 },
 "nbformat": 4,
 "nbformat_minor": 5
}
